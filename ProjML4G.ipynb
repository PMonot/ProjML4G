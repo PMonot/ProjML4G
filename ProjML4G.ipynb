{
  "cells": [
    {
      "cell_type": "markdown",
      "metadata": {
        "id": "6Geh-s0NFTmz"
      },
      "source": [
        "# Opinion Shaping in Social Networks Using Reinforcement Learning"
      ]
    },
    {
      "cell_type": "markdown",
      "metadata": {
        "id": "FvwahJTyGCVr"
      },
      "source": [
        "## Libs"
      ]
    },
    {
      "cell_type": "code",
      "execution_count": 6,
      "metadata": {
        "id": "-JjZ1BubEPSa"
      },
      "outputs": [],
      "source": [
        "import numpy as np\n",
        "import cvxpy as cp\n",
        "import matplotlib.pyplot as plt\n",
        "import plotly.graph_objects as go\n",
        "import networkx as nx\n",
        "import time\n",
        "\n",
        "from code_generation_graph import creation_graph, show_graph"
      ]
    },
    {
      "cell_type": "markdown",
      "metadata": {
        "id": "GEtDJfyhGQ6X"
      },
      "source": [
        "## Graph Creation"
      ]
    },
    {
      "cell_type": "markdown",
      "metadata": {
        "id": "3PgKaX6mGVqF"
      },
      "source": [
        "```Some text to explain what we are doing```"
      ]
    },
    {
      "cell_type": "markdown",
      "metadata": {
        "id": "3SMbVWr6yUYU"
      },
      "source": [
        "### Simulation of the doc graph"
      ]
    },
    {
      "cell_type": "code",
      "execution_count": 8,
      "metadata": {},
      "outputs": [
        {
          "ename": "TypeError",
          "evalue": "Population must be a sequence.  For dicts or sets, use sorted(d).",
          "output_type": "error",
          "traceback": [
            "\u001b[1;31m---------------------------------------------------------------------------\u001b[0m",
            "\u001b[1;31mTypeError\u001b[0m                                 Traceback (most recent call last)",
            "Cell \u001b[1;32mIn[8], line 2\u001b[0m\n\u001b[0;32m      1\u001b[0m \u001b[38;5;66;03m# first with a graph of size 20\u001b[39;00m\n\u001b[1;32m----> 2\u001b[0m Graph \u001b[38;5;241m=\u001b[39m creation_graph(\u001b[38;5;241m20\u001b[39m)\n\u001b[0;32m      3\u001b[0m show_graph(G)\n",
            "File \u001b[1;32mc:\\Users\\Utilisateur\\Documents\\IMTA\\A2\\ML4Graph\\Projet\\GitHub\\ProjML4G\\code_generation_graph.py:35\u001b[0m, in \u001b[0;36mcreation_graph\u001b[1;34m(N)\u001b[0m\n\u001b[0;32m     32\u001b[0m \u001b[38;5;66;03m# Remove the possibility of self-loops\u001b[39;00m\n\u001b[0;32m     33\u001b[0m possible_targets \u001b[38;5;241m=\u001b[39m possible_targets \u001b[38;5;241m-\u001b[39m {node}\n\u001b[1;32m---> 35\u001b[0m targets \u001b[38;5;241m=\u001b[39m random\u001b[38;5;241m.\u001b[39msample(possible_targets, number_of_links)\n\u001b[0;32m     37\u001b[0m \u001b[38;5;66;03m# Add edges with weights\u001b[39;00m\n\u001b[0;32m     38\u001b[0m \u001b[38;5;28;01mfor\u001b[39;00m target, weight \u001b[38;5;129;01min\u001b[39;00m \u001b[38;5;28mzip\u001b[39m(targets, outgoing_weights_1):\n",
            "File \u001b[1;32mc:\\Users\\Utilisateur\\anaconda3\\envs\\py311\\Lib\\random.py:439\u001b[0m, in \u001b[0;36mRandom.sample\u001b[1;34m(self, population, k, counts)\u001b[0m\n\u001b[0;32m    415\u001b[0m \u001b[38;5;66;03m# Sampling without replacement entails tracking either potential\u001b[39;00m\n\u001b[0;32m    416\u001b[0m \u001b[38;5;66;03m# selections (the pool) in a list or previous selections in a set.\u001b[39;00m\n\u001b[0;32m    417\u001b[0m \n\u001b[1;32m   (...)\u001b[0m\n\u001b[0;32m    435\u001b[0m \u001b[38;5;66;03m# too many calls to _randbelow(), making them slower and\u001b[39;00m\n\u001b[0;32m    436\u001b[0m \u001b[38;5;66;03m# causing them to eat more entropy than necessary.\u001b[39;00m\n\u001b[0;32m    438\u001b[0m \u001b[38;5;28;01mif\u001b[39;00m \u001b[38;5;129;01mnot\u001b[39;00m \u001b[38;5;28misinstance\u001b[39m(population, _Sequence):\n\u001b[1;32m--> 439\u001b[0m     \u001b[38;5;28;01mraise\u001b[39;00m \u001b[38;5;167;01mTypeError\u001b[39;00m(\u001b[38;5;124m\"\u001b[39m\u001b[38;5;124mPopulation must be a sequence.  \u001b[39m\u001b[38;5;124m\"\u001b[39m\n\u001b[0;32m    440\u001b[0m                     \u001b[38;5;124m\"\u001b[39m\u001b[38;5;124mFor dicts or sets, use sorted(d).\u001b[39m\u001b[38;5;124m\"\u001b[39m)\n\u001b[0;32m    441\u001b[0m n \u001b[38;5;241m=\u001b[39m \u001b[38;5;28mlen\u001b[39m(population)\n\u001b[0;32m    442\u001b[0m \u001b[38;5;28;01mif\u001b[39;00m counts \u001b[38;5;129;01mis\u001b[39;00m \u001b[38;5;129;01mnot\u001b[39;00m \u001b[38;5;28;01mNone\u001b[39;00m:\n",
            "\u001b[1;31mTypeError\u001b[0m: Population must be a sequence.  For dicts or sets, use sorted(d)."
          ]
        }
      ],
      "source": [
        "# first with a graph of size 20\n",
        "Graph = creation_graph(20)\n",
        "show_graph(G)"
      ]
    }
  ],
  "metadata": {
    "colab": {
      "provenance": []
    },
    "kernelspec": {
      "display_name": "Python 3",
      "name": "python3"
    },
    "language_info": {
      "codemirror_mode": {
        "name": "ipython",
        "version": 3
      },
      "file_extension": ".py",
      "mimetype": "text/x-python",
      "name": "python",
      "nbconvert_exporter": "python",
      "pygments_lexer": "ipython3",
      "version": "3.11.3"
    }
  },
  "nbformat": 4,
  "nbformat_minor": 0
}
